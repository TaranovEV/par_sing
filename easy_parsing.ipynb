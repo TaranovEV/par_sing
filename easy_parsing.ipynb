{
 "cells": [
  {
   "cell_type": "markdown",
   "metadata": {},
   "source": [
    "Небольшой проект по парсингу сайта на основе реальной задачи"
   ]
  },
  {
   "cell_type": "code",
   "execution_count": null,
   "metadata": {},
   "outputs": [],
   "source": [
    "import pandas as pd\n",
    "import requests\n",
    "from bs4 import BeautifulSoup\n",
    "from fake_useragent import UserAgent\n",
    "import csv\n",
    "import numpy as np"
   ]
  },
  {
   "cell_type": "code",
   "execution_count": null,
   "metadata": {},
   "outputs": [],
   "source": [
    "URL = '...dpfrom=01.01.2019&dpto=29.04.2020&status=197%3B191%3B201%3B210%3B318%3B190%3B192%3B193%3B194%3B195%3B196%3B198%3B200%3B202%3B203%3B208%3B204%3B317%3B205%3B206%3B207%3B233%3B234%3B209&limit=500'\n",
    "HEADERS = {'user-agent':UserAgent().chrome,\n",
    "          'accept':'text/html,application/xhtml+xml,application/xml;q=0.9,image/webp,*/*;q=0.8'}\n",
    "HEADERS1 = {'user-agent':UserAgent().chrome,\n",
    "          'accept':'text/html,application/xhtml+xml,application/xml;q=0.9,image/webp,*/*;q=0.8'}\n",
    "HOST = '....'"
   ]
  },
  {
   "cell_type": "code",
   "execution_count": null,
   "metadata": {},
   "outputs": [],
   "source": [
    "def get_html(url,params=None):\n",
    "    r = requests.get(url,headers=HEADERS,params=params)\n",
    "    return r"
   ]
  },
  {
   "cell_type": "code",
   "execution_count": null,
   "metadata": {},
   "outputs": [],
   "source": [
    "def get_content(html):\n",
    "    soup = BeautifulSoup(html,'html.parser')\n",
    "    items = soup.find_all('div',class_=\"section-procurement__item\")\n",
    "\n",
    "    lots = []\n",
    "    for item in items:\n",
    "        www = item.find('a',class_=\"section-procurement__item-title\").get('href')\n",
    "        pp = HOST+www\n",
    "\n",
    "        req_get = requests.get(pp,headers=HEADERS1)\n",
    "        zz = req_get.text\n",
    "        soup1 = BeautifulSoup(zz,'html.parser')\n",
    "        items1 = soup1.find('div',class_=\"procedure__lot-item\").find_next(\"td\").find_next(\"td\").get_text(strip=True)\n",
    "        \n",
    "        items2 = soup1.find(text='Заказчик:').find_next(\"td\").get_text(strip=True)\n",
    "\n",
    "        xx.append({'Номер процедуры':\n",
    "                   item.find('div',class_=\"section-procurement__item-numbers\")\\\n",
    "                                                       .get_text(strip=True)[-9:],\n",
    "                  'Наименование_процедуры': \n",
    "                   item.find('a',class_=\"section-procurement__item-title\").get_text(strip=True),\n",
    "                  'Наименование_организатора':\n",
    "                   item.find_all('div',class_=\"section-procurement__item-description\")\\\n",
    "                                                                       [0].find('a')\\\n",
    "                   .get_text(strip=True),\n",
    "                  'Регионы':\n",
    "                   p_i(item),\n",
    "                   'Тип_продаваемого_имущества':\n",
    "                   t_i(item),\n",
    "                   'Дата_публикации':\n",
    "                   item.find('div',class_=\"section-procurement__item-dateTo\")\\\n",
    "                                                       .get_text(strip=True)[16:],\n",
    "                   'Статус':\n",
    "                   st_ui(item),\n",
    "                   'Начальная_цена':\n",
    "                   c_i(item),\n",
    "                   'Предмет_договора':\n",
    "                   items1,\n",
    "                   'Заказчик':\n",
    "                   items2\n",
    "                   \n",
    "                  })\n",
    "\n",
    "    return lots"
   ]
  },
  {
   "cell_type": "code",
   "execution_count": null,
   "metadata": {},
   "outputs": [],
   "source": [
    "def st_ui(item):\n",
    "    '''Функция для парсинга статуса торговой площадки'''\n",
    "    try:\n",
    "        return item.find('span',class_=\"section-procurement__item-dateTo\").get_text(strip=True)[7:]\n",
    "    except AttributeError:\n",
    "        return 'Отстутствует'"
   ]
  },
  {
   "cell_type": "code",
   "execution_count": null,
   "metadata": {},
   "outputs": [],
   "source": [
    "def p_i(item):\n",
    "    '''Функция для парсинга региона торговой площадки'''\n",
    "    try:\n",
    "        return item.find(text='Регионы:').find_next(\"a\").get_text(strip=True)\n",
    "    except AttributeError:\n",
    "        return 'Отстутствует'"
   ]
  },
  {
   "cell_type": "code",
   "execution_count": null,
   "metadata": {},
   "outputs": [],
   "source": [
    "def t_i(item):\n",
    "    '''Функция для парсинга типа реаизуемого имущества'''\n",
    "    try:\n",
    "        return item.find(text='Тип продаваемого имущества:').find_next(\"a\").get_text(strip=True)\n",
    "    except AttributeError:\n",
    "        return 'Отстутствует'"
   ]
  },
  {
   "cell_type": "code",
   "execution_count": null,
   "metadata": {},
   "outputs": [],
   "source": [
    "def  c_i(item):\n",
    "    '''Функция для парсинга региона торговой площадки'''\n",
    "    try:\n",
    "        return item.find('div',class_=\"section-procurement__item-totalPrice\").get_text(strip=True)\n",
    "    except AttributeError:\n",
    "        return 'Не указана'"
   ]
  },
  {
   "cell_type": "code",
   "execution_count": null,
   "metadata": {},
   "outputs": [],
   "source": [
    "def get_page_count(html):\n",
    "    '''Функция для подсчета количества страниц с необходимыми лотами'''\n",
    "    soup = BeautifulSoup(html,'html.parser')\n",
    "    pagenum = soup.find('li',class_=\"pagination__next\")\n",
    "    if pagenum:\n",
    "        return int(pagenum.find_previous_siblings(\"li\")[0].get_text())\n",
    "    else:\n",
    "        return 1     "
   ]
  },
  {
   "cell_type": "code",
   "execution_count": null,
   "metadata": {},
   "outputs": [],
   "source": [
    "def save_file(items,path):\n",
    "    '''Функция для записи в csv'''\n",
    "    with open (path,'w',newline='') as file:\n",
    "        writer = csv.writer(file,delimiter=';')\n",
    "        writer.writerow(['Номер процедуры', 'Наименование_процедуры', 'Наименование_организатора', \n",
    "                         'Регионы', 'Тип_продаваемого_имущества', 'Дата_публикации',\n",
    "                         'Статус', 'Начальная_цена', 'Предмет_договора', 'Заказчик'])\n",
    "        for item in items:\n",
    "            writer.writerow([item['Номер процедуры'], item['Наименование_процедуры'], \n",
    "                                 item['Наименование_организатора'],item['Регионы_ПИ'], \n",
    "                                 item['Тип_продаваемого_имущества'], item['Дата_публикации'],\n",
    "                                 item['Статус'], item['Начальная_цена'], \n",
    "                                 item['Предмет_договора'], item['Заказчик']])\n",
    "        "
   ]
  },
  {
   "cell_type": "code",
   "execution_count": null,
   "metadata": {},
   "outputs": [],
   "source": [
    "def parse():\n",
    "    html = get_html(URL)\n",
    "    if html.status_code == 200:\n",
    "        lots = []\n",
    "        \n",
    "        page_count = get_page_count(html.text)\n",
    "        for num in range(1,page_count+1):\n",
    "            print(num)\n",
    "            html = get_html(URL,params={'page':num})\n",
    "            lots.extend(get_content(html.text))\n",
    "            print(f'страница {num} из {page_count}')\n",
    "        print(len(lots))\n",
    "        save_file(lots,'lots.csv')       \n",
    "    else:\n",
    "        print('Error')"
   ]
  },
  {
   "cell_type": "code",
   "execution_count": 543,
   "metadata": {},
   "outputs": [
    {
     "name": "stdout",
     "output_type": "stream",
     "text": [
      "1\n",
      "страница 1 из 5\n",
      "2\n",
      "страница 2 из 5\n",
      "3\n",
      "страница 3 из 5\n",
      "4\n",
      "страница 4 из 5\n",
      "5\n",
      "страница 5 из 5\n",
      "2144\n"
     ]
    }
   ],
   "source": [
    "parse()"
   ]
  }
 ],
 "metadata": {
  "kernelspec": {
   "display_name": "Python 3",
   "language": "python",
   "name": "python3"
  },
  "language_info": {
   "codemirror_mode": {
    "name": "ipython",
    "version": 3
   },
   "file_extension": ".py",
   "mimetype": "text/x-python",
   "name": "python",
   "nbconvert_exporter": "python",
   "pygments_lexer": "ipython3",
   "version": "3.7.6"
  }
 },
 "nbformat": 4,
 "nbformat_minor": 4
}
